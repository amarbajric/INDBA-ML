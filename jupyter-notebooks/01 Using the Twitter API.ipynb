{
 "cells": [
  {
   "cell_type": "markdown",
   "metadata": {},
   "source": [
    "# Get Access to Twitter API\n",
    "Before you can get any information from the Twitter API, an application has to be set up. Even for publically available tweets, this step is always mandatory.\n",
    "\n",
    "### Step 1: Create a Twitter Account\n",
    "Of course this step can be omitted if you already have an account.\n",
    "\n",
    "### Step 2: Create API Application\n",
    "Visit https://apps.twitter.com/ in order to create an APP. Click on *__create new app__* and fill out the form.\n",
    "\n",
    "![Create application](files/images/createapp.png)\n",
    "\n",
    "### Step 3: Create Access Token\n",
    "Once the application has been created, you need to grant your twitter account access to this application.\n",
    "Click on the tab \"Keys and Access Tokens\" and click the button *__Create my access token__*\n",
    "\n",
    "![Create access token](files/images/createtoken.png)\n",
    "\n",
    "### Step 4: Use key and token\n",
    "The consumer key and access token are everything the application needs in order to access and use the Twitter API.\n",
    "\n",
    "![Use key and token](files/images/keyandtoken.png)"
   ]
  },
  {
   "cell_type": "markdown",
   "metadata": {},
   "source": [
    "# Import tweepy to test/use the API"
   ]
  },
  {
   "cell_type": "code",
   "execution_count": 1,
   "metadata": {},
   "outputs": [],
   "source": [
    "# http://tweepy.readthedocs.io/en/v3.5.0/index.html\n",
    "import tweepy"
   ]
  },
  {
   "cell_type": "markdown",
   "metadata": {},
   "source": [
    "# Import json to display the output"
   ]
  },
  {
   "cell_type": "code",
   "execution_count": 13,
   "metadata": {},
   "outputs": [],
   "source": [
    "import json\n",
    "import time"
   ]
  },
  {
   "cell_type": "markdown",
   "metadata": {},
   "source": [
    "# Configure"
   ]
  },
  {
   "cell_type": "code",
   "execution_count": 16,
   "metadata": {},
   "outputs": [
    {
     "name": "stdout",
     "output_type": "stream",
     "text": [
      "{\n",
      " \"created_at\": \"Wed Jan 10 16:32:05 +0000 2018\",\n",
      " \"id\": 951129530114158592,\n",
      " \"id_str\": \"951129530114158592\",\n",
      " \"text\": \"1515601926.6214876/n\",\n",
      " \"truncated\": false,\n",
      " \"entities\": {\n",
      "  \"hashtags\": [],\n",
      "  \"symbols\": [],\n",
      "  \"user_mentions\": [],\n",
      "  \"urls\": []\n",
      " },\n",
      " \"source\": \"<a href=\\\"http://does.not.apply.com\\\" rel=\\\"nofollow\\\">at.fhjoanneumgraz.indba</a>\",\n",
      " \"in_reply_to_status_id\": null,\n",
      " \"in_reply_to_status_id_str\": null,\n",
      " \"in_reply_to_user_id\": null,\n",
      " \"in_reply_to_user_id_str\": null,\n",
      " \"in_reply_to_screen_name\": null,\n",
      " \"user\": {\n",
      "  \"id\": 3674644043,\n",
      "  \"id_str\": \"3674644043\",\n",
      "  \"name\": \"adorak\",\n",
      "  \"screen_name\": \"adorak_\",\n",
      "  \"location\": \"\",\n",
      "  \"description\": \"\",\n",
      "  \"url\": null,\n",
      "  \"entities\": {\n",
      "   \"description\": {\n",
      "    \"urls\": []\n",
      "   }\n",
      "  },\n",
      "  \"protected\": false,\n",
      "  \"followers_count\": 2,\n",
      "  \"friends_count\": 2,\n",
      "  \"listed_count\": 0,\n",
      "  \"created_at\": \"Wed Sep 16 12:18:34 +0000 2015\",\n",
      "  \"favourites_count\": 0,\n",
      "  \"utc_offset\": null,\n",
      "  \"time_zone\": null,\n",
      "  \"geo_enabled\": false,\n",
      "  \"verified\": false,\n",
      "  \"statuses_count\": 3,\n",
      "  \"lang\": \"de\",\n",
      "  \"contributors_enabled\": false,\n",
      "  \"is_translator\": false,\n",
      "  \"is_translation_enabled\": false,\n",
      "  \"profile_background_color\": \"C0DEED\",\n",
      "  \"profile_background_image_url\": \"http://abs.twimg.com/images/themes/theme1/bg.png\",\n",
      "  \"profile_background_image_url_https\": \"https://abs.twimg.com/images/themes/theme1/bg.png\",\n",
      "  \"profile_background_tile\": false,\n",
      "  \"profile_image_url\": \"http://abs.twimg.com/sticky/default_profile_images/default_profile_normal.png\",\n",
      "  \"profile_image_url_https\": \"https://abs.twimg.com/sticky/default_profile_images/default_profile_normal.png\",\n",
      "  \"profile_link_color\": \"1DA1F2\",\n",
      "  \"profile_sidebar_border_color\": \"C0DEED\",\n",
      "  \"profile_sidebar_fill_color\": \"DDEEF6\",\n",
      "  \"profile_text_color\": \"333333\",\n",
      "  \"profile_use_background_image\": true,\n",
      "  \"has_extended_profile\": false,\n",
      "  \"default_profile\": true,\n",
      "  \"default_profile_image\": true,\n",
      "  \"following\": false,\n",
      "  \"follow_request_sent\": false,\n",
      "  \"notifications\": false,\n",
      "  \"translator_type\": \"none\"\n",
      " },\n",
      " \"geo\": null,\n",
      " \"coordinates\": null,\n",
      " \"place\": null,\n",
      " \"contributors\": null,\n",
      " \"is_quote_status\": false,\n",
      " \"retweet_count\": 0,\n",
      " \"favorite_count\": 0,\n",
      " \"favorited\": false,\n",
      " \"retweeted\": false,\n",
      " \"lang\": \"und\"\n",
      "}\n"
     ]
    }
   ],
   "source": [
    "# Setting Key and Token \n",
    "CONSUMER_KEY = 'ujIKMUv1eHpY2d2rRNkSZi4bl'\n",
    "CONSUMER_SECRET = '2vF5JqaQQZga3oD5PaFs8PkxsK49icGGeqwuTuYaJzJKmBk4lX'\n",
    "ACCESS_TOKEN = '3674644043-aJ0z3Glnm5hMz8QIWKrs2YYrLkJwsNMujCXBfU7'\n",
    "ACCESS_TOKEN_SECRET = 'qauiMtE65pamgpAQ745QGm6O1NtaOe8d5yRNcBD8NXMGN'\n",
    "\n",
    "# Authenticate\n",
    "auth = tweepy.OAuthHandler(CONSUMER_KEY, CONSUMER_SECRET)\n",
    "auth.set_access_token(ACCESS_TOKEN, ACCESS_TOKEN_SECRET)\n",
    "\n",
    "# Creating an instance and checking if it works\n",
    "twitter = tweepy.API(auth)\n",
    "\n",
    "# We need to add a unique value to the status since the API\n",
    "# https://developer.twitter.com/en/docs/basics/response-codes     STATUS 187\n",
    "status = twitter.update_status(str(time.time()) + '/n')\n",
    "print(json.dumps(status._json, indent=1))"
   ]
  },
  {
   "cell_type": "markdown",
   "metadata": {},
   "source": [
    "# Using the tweepy to get tweets\n",
    "http://docs.tweepy.org/en/v3.5.0/api.html\n",
    "\n",
    "To get the latest Tweet from Donald Trump, we need to provide his screen_name (realDonaldTrump) and how many tweets we want to receive (in this case 1).\n",
    "\n",
    "*user_timeline* ALWAYS returns a list (see documentation) so, if we only want one tweet we need to append a [0]"
   ]
  },
  {
   "cell_type": "code",
   "execution_count": 27,
   "metadata": {},
   "outputs": [
    {
     "name": "stdout",
     "output_type": "stream",
     "text": [
      "{\n",
      " \"created_at\": \"Wed Jan 10 15:14:15 +0000 2018\",\n",
      " \"id\": 951109942685126656,\n",
      " \"id_str\": \"951109942685126656\",\n",
      " \"text\": \"The single greatest Witch Hunt in American history continues. There was no collusion, everybody including the Dems\\u2026 https://t.co/j7rc1QKCLw\",\n",
      " \"truncated\": true,\n",
      " \"entities\": {\n",
      "  \"hashtags\": [],\n",
      "  \"symbols\": [],\n",
      "  \"user_mentions\": [],\n",
      "  \"urls\": [\n",
      "   {\n",
      "    \"url\": \"https://t.co/j7rc1QKCLw\",\n",
      "    \"expanded_url\": \"https://twitter.com/i/web/status/951109942685126656\",\n",
      "    \"display_url\": \"twitter.com/i/web/status/9\\u2026\",\n",
      "    \"indices\": [\n",
      "     116,\n",
      "     139\n",
      "    ]\n",
      "   }\n",
      "  ]\n",
      " },\n",
      " \"source\": \"<a href=\\\"http://twitter.com/download/iphone\\\" rel=\\\"nofollow\\\">Twitter for iPhone</a>\",\n",
      " \"in_reply_to_status_id\": null,\n",
      " \"in_reply_to_status_id_str\": null,\n",
      " \"in_reply_to_user_id\": null,\n",
      " \"in_reply_to_user_id_str\": null,\n",
      " \"in_reply_to_screen_name\": null,\n",
      " \"user\": {\n",
      "  \"id\": 25073877,\n",
      "  \"id_str\": \"25073877\",\n",
      "  \"name\": \"Donald J. Trump\",\n",
      "  \"screen_name\": \"realDonaldTrump\",\n",
      "  \"location\": \"Washington, DC\",\n",
      "  \"description\": \"45th President of the United States of America\\ud83c\\uddfa\\ud83c\\uddf8\",\n",
      "  \"url\": \"https://t.co/OMxB0x7xC5\",\n",
      "  \"entities\": {\n",
      "   \"url\": {\n",
      "    \"urls\": [\n",
      "     {\n",
      "      \"url\": \"https://t.co/OMxB0x7xC5\",\n",
      "      \"expanded_url\": \"http://www.Instagram.com/realDonaldTrump\",\n",
      "      \"display_url\": \"Instagram.com/realDonaldTrump\",\n",
      "      \"indices\": [\n",
      "       0,\n",
      "       23\n",
      "      ]\n",
      "     }\n",
      "    ]\n",
      "   },\n",
      "   \"description\": {\n",
      "    \"urls\": []\n",
      "   }\n",
      "  },\n",
      "  \"protected\": false,\n",
      "  \"followers_count\": 46410304,\n",
      "  \"friends_count\": 45,\n",
      "  \"listed_count\": 82446,\n",
      "  \"created_at\": \"Wed Mar 18 13:46:38 +0000 2009\",\n",
      "  \"favourites_count\": 24,\n",
      "  \"utc_offset\": -18000,\n",
      "  \"time_zone\": \"Eastern Time (US & Canada)\",\n",
      "  \"geo_enabled\": true,\n",
      "  \"verified\": true,\n",
      "  \"statuses_count\": 36735,\n",
      "  \"lang\": \"en\",\n",
      "  \"contributors_enabled\": false,\n",
      "  \"is_translator\": false,\n",
      "  \"is_translation_enabled\": true,\n",
      "  \"profile_background_color\": \"6D5C18\",\n",
      "  \"profile_background_image_url\": \"http://pbs.twimg.com/profile_background_images/530021613/trump_scotland__43_of_70_cc.jpg\",\n",
      "  \"profile_background_image_url_https\": \"https://pbs.twimg.com/profile_background_images/530021613/trump_scotland__43_of_70_cc.jpg\",\n",
      "  \"profile_background_tile\": true,\n",
      "  \"profile_image_url\": \"http://pbs.twimg.com/profile_images/874276197357596672/kUuht00m_normal.jpg\",\n",
      "  \"profile_image_url_https\": \"https://pbs.twimg.com/profile_images/874276197357596672/kUuht00m_normal.jpg\",\n",
      "  \"profile_banner_url\": \"https://pbs.twimg.com/profile_banners/25073877/1515478614\",\n",
      "  \"profile_link_color\": \"1B95E0\",\n",
      "  \"profile_sidebar_border_color\": \"BDDCAD\",\n",
      "  \"profile_sidebar_fill_color\": \"C5CEC0\",\n",
      "  \"profile_text_color\": \"333333\",\n",
      "  \"profile_use_background_image\": true,\n",
      "  \"has_extended_profile\": false,\n",
      "  \"default_profile\": false,\n",
      "  \"default_profile_image\": false,\n",
      "  \"following\": false,\n",
      "  \"follow_request_sent\": false,\n",
      "  \"notifications\": false,\n",
      "  \"translator_type\": \"regular\"\n",
      " },\n",
      " \"geo\": null,\n",
      " \"coordinates\": null,\n",
      " \"place\": null,\n",
      " \"contributors\": null,\n",
      " \"is_quote_status\": false,\n",
      " \"retweet_count\": 9623,\n",
      " \"favorite_count\": 37793,\n",
      " \"favorited\": false,\n",
      " \"retweeted\": false,\n",
      " \"lang\": \"en\"\n",
      "}\n"
     ]
    }
   ],
   "source": [
    "# To get the latest Tweet from Donald Trump, we need to provide his screen_name (realDonaldTrump) and how many\n",
    "# tweets we want to receive (in this case 1).\n",
    "# user_timeline ALWAYS returns a list (see documentation) so, if we only want one tweet we need to append a [0]\n",
    "\n",
    "latestTrumpTweet = twitter.user_timeline(screen_name = 'realDonaldTrump', count = 1)[0]\n",
    "print(json.dumps(latestTrumpTweet._json, indent=1))\n"
   ]
  },
  {
   "cell_type": "markdown",
   "metadata": {},
   "source": [
    "Of course, this is all the information the API delivers so we need to select what we actually want:"
   ]
  },
  {
   "cell_type": "code",
   "execution_count": 35,
   "metadata": {},
   "outputs": [
    {
     "name": "stdout",
     "output_type": "stream",
     "text": [
      "The single greatest Witch Hunt in American history continues. There was no collusion, everybody including the Dems… https://t.co/j7rc1QKCLw\n"
     ]
    }
   ],
   "source": [
    "print(latestTrumpTweet.text)"
   ]
  },
  {
   "cell_type": "markdown",
   "metadata": {},
   "source": [
    "Notice, that the Twitter API delivers a shortened version of the Tweet per default. If we want to full text, our request needs to set the *tweet_mode* to \"extended\". This, however, turns the *text* to *full_text*."
   ]
  },
  {
   "cell_type": "code",
   "execution_count": 46,
   "metadata": {},
   "outputs": [
    {
     "name": "stdout",
     "output_type": "stream",
     "text": [
      "The single greatest Witch Hunt in American history continues. There was no collusion, everybody including the Dems knows there was no collusion, &amp; yet on and on it goes. Russia &amp; the world is laughing at the stupidity they are witnessing. Republicans should finally take control!\n"
     ]
    }
   ],
   "source": [
    "latestTrumpTweetExtended = twitter.user_timeline(screen_name = 'realDonaldTrump', count = 1, tweet_mode='extended')[0]\n",
    "print(latestTrumpTweetExtended.full_text)"
   ]
  },
  {
   "cell_type": "markdown",
   "metadata": {},
   "source": [
    "# That's it\n",
    "This is all that is needed to access and use the Twitter API and Tweepy. Refer to Tweepy documentation (http://docs.tweepy.org/en/v3.5.0/api.html) to find out all you can do."
   ]
  }
 ],
 "metadata": {
  "kernelspec": {
   "display_name": "Python 3",
   "language": "python",
   "name": "python3"
  },
  "language_info": {
   "codemirror_mode": {
    "name": "ipython",
    "version": 3
   },
   "file_extension": ".py",
   "mimetype": "text/x-python",
   "name": "python",
   "nbconvert_exporter": "python",
   "pygments_lexer": "ipython3",
   "version": "3.6.3"
  }
 },
 "nbformat": 4,
 "nbformat_minor": 2
}
