{
 "cells": [
  {
   "cell_type": "markdown",
   "metadata": {},
   "source": [
    "# Visualisation of Data streamed to MongoDB"
   ]
  },
  {
   "cell_type": "markdown",
   "metadata": {},
   "source": [
    "## Imports"
   ]
  },
  {
   "cell_type": "code",
   "execution_count": null,
   "metadata": {},
   "outputs": [],
   "source": [
    "import re\n",
    "import plotly\n",
    "import plotly.plotly as py\n",
    "import plotly.tools as tls\n",
    "from plotly.graph_objs import *\n",
    "\n",
    "\n",
    "# http://tweepy.readthedocs.io/en/v3.5.0/index.html\n",
    "import tweepy\n",
    "from tweepy import OAuthHandler\n",
    "# https://pandasguide.readthedocs.io/en/latest/\n",
    "import pandas as pd\n",
    "# https://numpy.readthedocs.io/en/latest/\n",
    "import numpy as np\n",
    "# https://api.mongodb.com/python/current/\n",
    "import pymongo\n",
    "\n",
    "from IPython.display import display\n",
    "import matplotlib.pyplot as plt\n",
    "import seaborn as sns\n",
    "%matplotlib inline\n",
    "\n",
    "MONGO_URL = 'mongodb://twitter-mongodb:27017/'"
   ]
  },
  {
   "cell_type": "markdown",
   "metadata": {},
   "source": [
    "## MongoDB\n",
    "To gain access to the mongoDB the library `pymongo` is used.\n",
    "\n",
    "In the first step the mongoDB URL is defined.\n",
    "\n",
    "MONGO_URL = 'mongodb://twitter-mongodb:27017/'"
   ]
  },
  {
   "cell_type": "code",
   "execution_count": null,
   "metadata": {},
   "outputs": [],
   "source": [
    "def load_from_mongo(mongo_db, mongo_db_coll, return_cursor=False, criteria=None, projection=None):\n",
    "    # Optionally, use criteria and projection to limit the data that is\n",
    "    # returned - http://docs.mongodb.org/manual/reference/method/db.collection.find/\n",
    "    \n",
    "    # Connects to the MongoDB server running on\n",
    "    client = pymongo.MongoClient(MONGO_URL)\n",
    "    # Reference a particular collection in the database\n",
    "    db = client[mongo_db]\n",
    "    # Perform a bulk insert and return the IDs\n",
    "    coll = db[mongo_db_coll]\n",
    "    if criteria is None:\n",
    "        criteria = {}\n",
    "    if projection is None:\n",
    "        cursor = coll.find(criteria)\n",
    "    else:\n",
    "        cursor = coll.find(criteria, projection)\n",
    "    \n",
    "    # Returning a cursor is recommended for large amounts of data\n",
    "    if return_cursor:\n",
    "        return cursor\n",
    "    else:\n",
    "        return [ item for item in cursor ]"
   ]
  },
  {
   "cell_type": "markdown",
   "metadata": {},
   "source": [
    "## Get some tweets to work with"
   ]
  },
  {
   "cell_type": "code",
   "execution_count": null,
   "metadata": {},
   "outputs": [],
   "source": [
    "#load tweets from a mongo (trump db)\n",
    "tweets = load_from_mongo('trump', 'tweets')\n",
    "for t in tweets[:5]:\n",
    "    print(t['text'])"
   ]
  },
  {
   "cell_type": "markdown",
   "metadata": {},
   "source": [
    "## Creating a DataFrame with Pandas"
   ]
  },
  {
   "cell_type": "code",
   "execution_count": null,
   "metadata": {},
   "outputs": [],
   "source": [
    "# Create a pandas DataFrame out of the tweets\n",
    "data = pd.DataFrame(data=[t['text'] for t in tweets], columns=['Tweets'])\n",
    "\n",
    "# Diplay the first 5 elements of the DataFrame\n",
    "display(data.head(5))"
   ]
  },
  {
   "cell_type": "markdown",
   "metadata": {},
   "source": [
    "## Extend our DataFrame"
   ]
  },
  {
   "cell_type": "code",
   "execution_count": null,
   "metadata": {},
   "outputs": [],
   "source": [
    "# We add relevant data for Numpy Array:\n",
    "data['len']  = np.array([len(t['text']) for t in tweets])\n",
    "data['ID']   = np.array([t['id'] for t in tweets])\n",
    "data['Date'] = np.array([t['created_at'] for t in tweets])\n",
    "data['Source'] = np.array([''.join(re.findall('.*>(.*)<.*',t['source'])) for t in tweets])\n",
    "data['Likes']  = np.array([t['favorite_count'] for t in tweets])\n",
    "data['RTs']    = np.array([t['retweet_count'] for t in tweets])\n",
    "\n",
    "display(data.head(10))\n",
    "\n"
   ]
  },
  {
   "cell_type": "markdown",
   "metadata": {},
   "source": [
    "## Get average length of Tweets"
   ]
  },
  {
   "cell_type": "code",
   "execution_count": null,
   "metadata": {},
   "outputs": [],
   "source": [
    "# We extract the mean of lenghts:\n",
    "mean = np.mean(data['len'])\n",
    "\n",
    "print(\"The lenght's average in tweets: {}\".format(mean))"
   ]
  },
  {
   "cell_type": "markdown",
   "metadata": {},
   "source": [
    "## Get Tweets with the Most Likes and Retweets"
   ]
  },
  {
   "cell_type": "code",
   "execution_count": null,
   "metadata": {},
   "outputs": [],
   "source": [
    "# We extract the tweet with more FAVs and more RTs:\n",
    "\n",
    "fav_max = np.max(data['Likes'])\n",
    "rt_max  = np.max(data['RTs'])\n",
    "\n",
    "fav = data[data.Likes == fav_max].index[0]\n",
    "rt  = data[data.RTs == rt_max].index[0]\n",
    "\n",
    "# Max FAVs:\n",
    "print(\"The tweet with more likes is: \\n{}\".format(data['Tweets'][fav]))\n",
    "print(\"Number of likes: {}\".format(fav_max))\n",
    "print(\"{} characters.\\n\".format(data['len'][fav]))\n",
    "\n",
    "# Max RTs:\n",
    "print(\"The tweet with more retweets is: \\n{}\".format(data['Tweets'][rt]))\n",
    "print(\"Number of retweets: {}\".format(rt_max))\n",
    "print(\"{} characters.\\n\".format(data['len'][rt]))"
   ]
  },
  {
   "cell_type": "markdown",
   "metadata": {},
   "source": [
    "## Get Tweets with the Least Likes and Retweets"
   ]
  },
  {
   "cell_type": "code",
   "execution_count": null,
   "metadata": {},
   "outputs": [],
   "source": [
    "# We extract the tweet with more FAVs and more RTs:\n",
    "\n",
    "fav_min = np.min(data['Likes'])\n",
    "rt_min  = np.min(data['RTs'])\n",
    "\n",
    "data_fav_min = data[data.Likes == fav_min].index[0]\n",
    "data_rt_min  = data[data.RTs == rt_min].index[0]\n",
    "\n",
    "# Max FAVs:\n",
    "print(\"The tweet with the minimum likes is: \\n{}\".format(data['Tweets'][data_fav_min]))\n",
    "print(\"Number of likes: {}\".format(fav_min))\n",
    "print(\"{} characters.\\n\".format(data['len'][data_fav_min]))\n",
    "\n",
    "# Max RTs:\n",
    "print(\"The tweet with minimum retweets is: \\n{}\".format(data['Tweets'][data_rt_min]))\n",
    "print(\"Number of retweets: {}\".format(rt_min))\n",
    "print(\"{} characters.\\n\".format(data['len'][data_rt_min]))"
   ]
  },
  {
   "cell_type": "markdown",
   "metadata": {},
   "source": [
    "## We create time series for data"
   ]
  },
  {
   "cell_type": "code",
   "execution_count": null,
   "metadata": {},
   "outputs": [],
   "source": [
    "# One-dimensional ndarray with axis labels (including time series)\n",
    "\n",
    "tlen = pd.Series(data=data['len'].values, index=data['Date'])\n",
    "\n",
    "# Lenghts along time:\n",
    "tlen.plot(figsize=(14,10), color='r', label='Length of Tweets');"
   ]
  },
  {
   "cell_type": "markdown",
   "metadata": {},
   "source": [
    "## Limit the Data used (Length of Tweets)"
   ]
  },
  {
   "cell_type": "code",
   "execution_count": null,
   "metadata": {},
   "outputs": [],
   "source": [
    "#Limit Data to first 100 because it would be overwhelming\n",
    "data_oneHundred = data.head(100)\n",
    "\n",
    "tlen = pd.Series(data=data_oneHundred['len'].values, index=data_oneHundred['Date'])\n",
    "\n",
    "# Lenghts along time:\n",
    "tlen.plot(figsize=(16,10), color='r', label='Length of Tweets');"
   ]
  },
  {
   "cell_type": "markdown",
   "metadata": {},
   "source": [
    "## Likes and Retweets"
   ]
  },
  {
   "cell_type": "code",
   "execution_count": null,
   "metadata": {},
   "outputs": [],
   "source": [
    "tfav = pd.Series(data=data['Likes'].values, index=data['Date'])\n",
    "tret = pd.Series(data=data['RTs'].values, index=data['Date'])\n",
    "\n",
    "# Likes vs retweets visualization:\n",
    "tfav.plot(figsize=(16,4), label=\"Likes\", legend=True)\n",
    "tret.plot(figsize=(16,4), label=\"Retweets\", legend=True);"
   ]
  },
  {
   "cell_type": "markdown",
   "metadata": {},
   "source": [
    "## Limit the data used (Likes and retweets)"
   ]
  },
  {
   "cell_type": "code",
   "execution_count": null,
   "metadata": {},
   "outputs": [],
   "source": [
    "tfav = pd.Series(data=data_oneHundred['Likes'].values, index=data_oneHundred['Date'])\n",
    "tret = pd.Series(data=data_oneHundred['RTs'].values, index=data_oneHundred['Date'])\n",
    "\n",
    "# Likes vs retweets visualization:\n",
    "tfav.plot(figsize=(16,4), label=\"Likes\", legend=True)\n",
    "tret.plot(figsize=(16,4), label=\"Retweets\", legend=True);"
   ]
  },
  {
   "cell_type": "markdown",
   "metadata": {},
   "source": [
    "### Figure out (LIVE!) which tweet skyrocket on 3rd of January (Dates may vary)"
   ]
  },
  {
   "cell_type": "code",
   "execution_count": null,
   "metadata": {},
   "outputs": [],
   "source": [
    "likes_max = np.max(data_oneHundred['Likes'])\n",
    "likes_data = data_oneHundred[data_oneHundred.Likes == likes_max].index[0]\n",
    "\n",
    "print(\"The tweet with the maximum likes is: \\n{}\".format(data_oneHundred['Tweets'][likes_data]))\n",
    "print(\"Number of likes: {}\".format(likes_max))\n",
    "print(\"{} characters.\\n\".format(data['len'][likes_data]))"
   ]
  },
  {
   "cell_type": "markdown",
   "metadata": {},
   "source": [
    "## Go through all sources and list them (only unique Entry's)"
   ]
  },
  {
   "cell_type": "code",
   "execution_count": null,
   "metadata": {},
   "outputs": [],
   "source": [
    "import re\n",
    "\n",
    "# We obtain all possible sources:\n",
    "sources = []\n",
    "for source in data['Source']:\n",
    "    if source not in sources:\n",
    "        sources.append(source)\n",
    "\n",
    "# We print sources list:\n",
    "print(\"Creation of content sources:\")\n",
    "for source in sources:\n",
    "    print(\"* {}\".format(source))"
   ]
  },
  {
   "cell_type": "code",
   "execution_count": null,
   "metadata": {},
   "outputs": [],
   "source": [
    "# We create a numpy vector mapped to labels:\n",
    "percent = np.zeros(len(sources))\n",
    "\n",
    "for source in data['Source']:\n",
    "    for index in range(len(sources)):\n",
    "        if source == sources[index]:\n",
    "            percent[index] += 1\n",
    "            pass\n",
    "\n",
    "percent /= 100\n",
    "\n",
    "# Pie chart:\n",
    "pie_chart = pd.Series(percent, index=sources, name='Sources')\n",
    "pie_chart.plot.pie(fontsize=11, autopct='%.2f', figsize=(6, 6));"
   ]
  }
 ],
 "metadata": {
  "kernelspec": {
   "display_name": "Python 3",
   "language": "python",
   "name": "python3"
  },
  "language_info": {
   "codemirror_mode": {
    "name": "ipython",
    "version": 3
   },
   "file_extension": ".py",
   "mimetype": "text/x-python",
   "name": "python",
   "nbconvert_exporter": "python",
   "pygments_lexer": "ipython3",
   "version": "3.6.3"
  }
 },
 "nbformat": 4,
 "nbformat_minor": 2
}
