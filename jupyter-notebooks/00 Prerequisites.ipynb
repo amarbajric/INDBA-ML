{
 "cells": [
  {
   "cell_type": "markdown",
   "metadata": {},
   "source": [
    "# Prerequisites"
   ]
  },
  {
   "cell_type": "code",
   "execution_count": null,
   "metadata": {},
   "outputs": [],
   "source": [
    "# install required libaries\n",
    "!pip install tweepy\n",
    "!pip install twython\n",
    "!pip install pymongo\n",
    "!pip install textblob\n",
    "!pip install plotly\n",
    "!pip install nltk\n",
    "\n",
    "#NLTK (Natural Language Tool Kit) Downloads\n",
    "import nltk\n",
    "nltk.download('stopwords')\n",
    "nltk.download('subjectivity')\n",
    "nltk.download('punkt')"
   ]
  }
 ],
 "metadata": {
  "kernelspec": {
   "display_name": "Python 3",
   "language": "python",
   "name": "python3"
  },
  "language_info": {
   "codemirror_mode": {
    "name": "ipython",
    "version": 3
   },
   "file_extension": ".py",
   "mimetype": "text/x-python",
   "name": "python",
   "nbconvert_exporter": "python",
   "pygments_lexer": "ipython3",
   "version": "3.6.3"
  }
 },
 "nbformat": 4,
 "nbformat_minor": 2
}
