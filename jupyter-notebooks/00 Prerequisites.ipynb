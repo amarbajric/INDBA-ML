{
 "cells": [
  {
   "cell_type": "markdown",
   "metadata": {},
   "source": [
    "# Prerequisites"
   ]
  },
  {
   "cell_type": "code",
   "execution_count": 1,
   "metadata": {},
   "outputs": [
    {
     "name": "stdout",
     "output_type": "stream",
     "text": [
      "Collecting tweepy\n",
      "  Using cached tweepy-3.5.0-py2.py3-none-any.whl\n",
      "Requirement already satisfied: requests>=2.4.3 in /opt/conda/lib/python3.6/site-packages (from tweepy)\n",
      "Requirement already satisfied: six>=1.7.3 in /opt/conda/lib/python3.6/site-packages (from tweepy)\n",
      "Collecting requests-oauthlib>=0.4.1 (from tweepy)\n",
      "  Using cached requests_oauthlib-0.8.0-py2.py3-none-any.whl\n",
      "Requirement already satisfied: chardet<3.1.0,>=3.0.2 in /opt/conda/lib/python3.6/site-packages (from requests>=2.4.3->tweepy)\n",
      "Requirement already satisfied: idna<2.7,>=2.5 in /opt/conda/lib/python3.6/site-packages (from requests>=2.4.3->tweepy)\n",
      "Requirement already satisfied: urllib3<1.23,>=1.21.1 in /opt/conda/lib/python3.6/site-packages (from requests>=2.4.3->tweepy)\n",
      "Requirement already satisfied: certifi>=2017.4.17 in /opt/conda/lib/python3.6/site-packages (from requests>=2.4.3->tweepy)\n",
      "Collecting oauthlib>=0.6.2 (from requests-oauthlib>=0.4.1->tweepy)\n",
      "Installing collected packages: oauthlib, requests-oauthlib, tweepy\n",
      "Successfully installed oauthlib-2.0.6 requests-oauthlib-0.8.0 tweepy-3.5.0\n",
      "Collecting twython\n",
      "  Downloading twython-3.6.0.tar.gz\n",
      "Requirement already satisfied: requests>=2.1.0 in /opt/conda/lib/python3.6/site-packages (from twython)\n",
      "Requirement already satisfied: requests_oauthlib>=0.4.0 in /opt/conda/lib/python3.6/site-packages (from twython)\n",
      "Requirement already satisfied: chardet<3.1.0,>=3.0.2 in /opt/conda/lib/python3.6/site-packages (from requests>=2.1.0->twython)\n",
      "Requirement already satisfied: idna<2.7,>=2.5 in /opt/conda/lib/python3.6/site-packages (from requests>=2.1.0->twython)\n",
      "Requirement already satisfied: urllib3<1.23,>=1.21.1 in /opt/conda/lib/python3.6/site-packages (from requests>=2.1.0->twython)\n",
      "Requirement already satisfied: certifi>=2017.4.17 in /opt/conda/lib/python3.6/site-packages (from requests>=2.1.0->twython)\n",
      "Requirement already satisfied: oauthlib>=0.6.2 in /opt/conda/lib/python3.6/site-packages (from requests_oauthlib>=0.4.0->twython)\n",
      "Building wheels for collected packages: twython\n",
      "  Running setup.py bdist_wheel for twython ... \u001b[?25ldone\n",
      "\u001b[?25h  Stored in directory: /home/jovyan/.cache/pip/wheels/54/0d/1d/17ead038ae99fc95a15469cab79fef102df2afc447405d0bf7\n",
      "Successfully built twython\n",
      "Installing collected packages: twython\n",
      "Successfully installed twython-3.6.0\n",
      "Collecting pymongo\n",
      "  Using cached pymongo-3.6.0-cp36-cp36m-manylinux1_x86_64.whl\n",
      "Installing collected packages: pymongo\n",
      "Successfully installed pymongo-3.6.0\n",
      "Collecting textblob\n",
      "  Using cached textblob-0.15.0-py2.py3-none-any.whl\n",
      "Collecting nltk>=3.1 (from textblob)\n",
      "Requirement already satisfied: six in /opt/conda/lib/python3.6/site-packages (from nltk>=3.1->textblob)\n",
      "Installing collected packages: nltk, textblob\n",
      "Successfully installed nltk-3.2.5 textblob-0.15.0\n",
      "Collecting plotly\n",
      "  Downloading plotly-2.2.3.tar.gz (1.1MB)\n",
      "\u001b[K    100% |████████████████████████████████| 1.1MB 385kB/s ta 0:00:01\n",
      "\u001b[?25hRequirement already satisfied: decorator>=4.0.6 in /opt/conda/lib/python3.6/site-packages (from plotly)\n",
      "Requirement already satisfied: nbformat>=4.2 in /opt/conda/lib/python3.6/site-packages (from plotly)\n",
      "Requirement already satisfied: pytz in /opt/conda/lib/python3.6/site-packages (from plotly)\n",
      "Requirement already satisfied: requests in /opt/conda/lib/python3.6/site-packages (from plotly)\n",
      "Requirement already satisfied: six in /opt/conda/lib/python3.6/site-packages (from plotly)\n",
      "Requirement already satisfied: traitlets>=4.1 in /opt/conda/lib/python3.6/site-packages (from nbformat>=4.2->plotly)\n",
      "Requirement already satisfied: ipython-genutils in /opt/conda/lib/python3.6/site-packages (from nbformat>=4.2->plotly)\n",
      "Requirement already satisfied: jupyter-core in /opt/conda/lib/python3.6/site-packages (from nbformat>=4.2->plotly)\n",
      "Requirement already satisfied: jsonschema!=2.5.0,>=2.4 in /opt/conda/lib/python3.6/site-packages (from nbformat>=4.2->plotly)\n",
      "Requirement already satisfied: chardet<3.1.0,>=3.0.2 in /opt/conda/lib/python3.6/site-packages (from requests->plotly)\n",
      "Requirement already satisfied: idna<2.7,>=2.5 in /opt/conda/lib/python3.6/site-packages (from requests->plotly)\n",
      "Requirement already satisfied: urllib3<1.23,>=1.21.1 in /opt/conda/lib/python3.6/site-packages (from requests->plotly)\n",
      "Requirement already satisfied: certifi>=2017.4.17 in /opt/conda/lib/python3.6/site-packages (from requests->plotly)\n",
      "Building wheels for collected packages: plotly\n",
      "  Running setup.py bdist_wheel for plotly ... \u001b[?25ldone\n",
      "\u001b[?25h  Stored in directory: /home/jovyan/.cache/pip/wheels/2c/4c/ec/eb8a05f2e5005799f802e602a47e439ae9e09844822ebc4fd0\n",
      "Successfully built plotly\n",
      "Installing collected packages: plotly\n",
      "Successfully installed plotly-2.2.3\n",
      "Requirement already satisfied: nltk in /opt/conda/lib/python3.6/site-packages\n",
      "Requirement already satisfied: six in /opt/conda/lib/python3.6/site-packages (from nltk)\n",
      "[nltk_data] Downloading package stopwords to /home/jovyan/nltk_data...\n",
      "[nltk_data]   Unzipping corpora/stopwords.zip.\n",
      "[nltk_data] Downloading package subjectivity to\n",
      "[nltk_data]     /home/jovyan/nltk_data...\n",
      "[nltk_data]   Unzipping corpora/subjectivity.zip.\n",
      "[nltk_data] Downloading package punkt to /home/jovyan/nltk_data...\n",
      "[nltk_data]   Unzipping tokenizers/punkt.zip.\n"
     ]
    },
    {
     "data": {
      "text/plain": [
       "True"
      ]
     },
     "execution_count": 1,
     "metadata": {},
     "output_type": "execute_result"
    }
   ],
   "source": [
    "# install required libaries\n",
    "!pip install tweepy\n",
    "!pip install twython\n",
    "!pip install pymongo\n",
    "!pip install textblob\n",
    "!pip install plotly\n",
    "!pip install nltk\n",
    "\n",
    "#NLTK (Natural Language Tool Kit) Downloads\n",
    "import nltk\n",
    "nltk.download('stopwords')\n",
    "nltk.download('subjectivity')\n",
    "nltk.download('punkt')"
   ]
  },
  {
   "cell_type": "code",
   "execution_count": null,
   "metadata": {},
   "outputs": [],
   "source": []
  }
 ],
 "metadata": {
  "kernelspec": {
   "display_name": "Python 3",
   "language": "python",
   "name": "python3"
  },
  "language_info": {
   "codemirror_mode": {
    "name": "ipython",
    "version": 3
   },
   "file_extension": ".py",
   "mimetype": "text/x-python",
   "name": "python",
   "nbconvert_exporter": "python",
   "pygments_lexer": "ipython3",
   "version": "3.6.3"
  }
 },
 "nbformat": 4,
 "nbformat_minor": 2
}
