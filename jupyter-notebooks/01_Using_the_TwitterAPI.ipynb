{
 "cells": [
  {
   "cell_type": "markdown",
   "metadata": {},
   "source": [
    "# Get Access to Twitter API\n",
    "Before you can get any information from the Twitter API, an application has to be set up. Even for publically available tweets, this step is always mandatory.\n",
    "\n",
    "### Step 1: Create a Twitter Account\n",
    "Of course this step can be omitted if you already have an account.\n",
    "\n",
    "### Step 2: Create API Application\n",
    "Visit https://apps.twitter.com/ in order to create an APP. Click on *__create new app__* and fill out the form.\n",
    "\n",
    "![Create application](files/images/createapp.png)\n",
    "\n",
    "### Step 3: Create Access Token\n",
    "Once the application has been created, you need to grant your twitter account access to this application.\n",
    "Click on the tab \"Keys and Access Tokens\" and click the button *__Create my access token__*\n",
    "\n",
    "![Create access token](files/images/createtoken.png)\n",
    "\n",
    "### Step 4: Use key and token\n",
    "The consumer key and access token are everything the application needs in order to access and use the Twitter API.\n",
    "\n",
    "![Use key and token](files/images/keyandtoken.png)"
   ]
  },
  {
   "cell_type": "markdown",
   "metadata": {},
   "source": [
    "# Import tweepy to test/use the API"
   ]
  },
  {
   "cell_type": "code",
   "execution_count": null,
   "metadata": {},
   "outputs": [],
   "source": [
    "# http://tweepy.readthedocs.io/en/v3.5.0/index.html\n",
    "import tweepy"
   ]
  },
  {
   "cell_type": "markdown",
   "metadata": {},
   "source": [
    "# Import json to display the output"
   ]
  },
  {
   "cell_type": "code",
   "execution_count": null,
   "metadata": {},
   "outputs": [],
   "source": [
    "import json\n",
    "import time"
   ]
  },
  {
   "cell_type": "markdown",
   "metadata": {},
   "source": [
    "# Configure"
   ]
  },
  {
   "cell_type": "code",
   "execution_count": null,
   "metadata": {},
   "outputs": [],
   "source": [
    "# Setting Key and Token \n",
    "CONSUMER_KEY = 'ujIKMUv1eHpY2d2rRNkSZi4bl'\n",
    "CONSUMER_SECRET = '2vF5JqaQQZga3oD5PaFs8PkxsK49icGGeqwuTuYaJzJKmBk4lX'\n",
    "ACCESS_TOKEN = '3674644043-aJ0z3Glnm5hMz8QIWKrs2YYrLkJwsNMujCXBfU7'\n",
    "ACCESS_TOKEN_SECRET = 'qauiMtE65pamgpAQ745QGm6O1NtaOe8d5yRNcBD8NXMGN'\n",
    "\n",
    "# Authenticate\n",
    "auth = tweepy.OAuthHandler(CONSUMER_KEY, CONSUMER_SECRET)\n",
    "auth.set_access_token(ACCESS_TOKEN, ACCESS_TOKEN_SECRET)\n",
    "\n",
    "# Creating an instance and checking if it works\n",
    "twitter = tweepy.API(auth)\n",
    "\n",
    "# We need to add a unique value to the status since the API\n",
    "# https://developer.twitter.com/en/docs/basics/response-codes     STATUS 187\n",
    "status = twitter.update_status(str(time.time()) + '/n')\n",
    "print(json.dumps(status._json, indent=1))"
   ]
  },
  {
   "cell_type": "markdown",
   "metadata": {},
   "source": [
    "# Using tweepy to get tweets\n",
    "http://docs.tweepy.org/en/v3.5.0/api.html\n",
    "\n",
    "To get the latest Tweet from Donald Trump, we need to provide his screen_name (realDonaldTrump) and how many tweets we want to receive (in this case 1).\n",
    "\n",
    "*user_timeline* ALWAYS returns a list (see documentation) so, if we only want one tweet we need to append a [0]"
   ]
  },
  {
   "cell_type": "code",
   "execution_count": null,
   "metadata": {},
   "outputs": [],
   "source": [
    "# To get the latest Tweet from Donald Trump, we need to provide his screen_name (realDonaldTrump) and how many\n",
    "# tweets we want to receive (in this case 1).\n",
    "# user_timeline ALWAYS returns a list (see documentation) so, if we only want one tweet we need to append a [0]\n",
    "\n",
    "latestTrumpTweet = twitter.user_timeline(screen_name = 'realDonaldTrump', count = 1)[0]\n",
    "print(json.dumps(latestTrumpTweet._json, indent=1))\n"
   ]
  },
  {
   "cell_type": "markdown",
   "metadata": {},
   "source": [
    "Of course, this is all the information the API delivers so we need to select what we actually want:"
   ]
  },
  {
   "cell_type": "code",
   "execution_count": null,
   "metadata": {},
   "outputs": [],
   "source": [
    "print(latestTrumpTweet.text)"
   ]
  },
  {
   "cell_type": "markdown",
   "metadata": {},
   "source": [
    "Notice, that the Twitter API delivers a shortened version of the Tweet per default. If we want to full text, our request needs to set the *tweet_mode* to \"extended\". This, however, turns the *text* to *full_text*."
   ]
  },
  {
   "cell_type": "code",
   "execution_count": null,
   "metadata": {},
   "outputs": [],
   "source": [
    "latestTrumpTweetExtended = twitter.user_timeline(screen_name = 'realDonaldTrump', count = 1, tweet_mode='extended')[0]\n",
    "print(latestTrumpTweetExtended.full_text)"
   ]
  },
  {
   "cell_type": "markdown",
   "metadata": {},
   "source": [
    "# That's it\n",
    "This is all that is needed to access and use the Twitter API and Tweepy. Refer to Tweepy documentation (http://docs.tweepy.org/en/v3.5.0/api.html) to find out all you can do."
   ]
  }
 ],
 "metadata": {
  "kernelspec": {
   "display_name": "Python 3",
   "language": "python",
   "name": "python3"
  },
  "language_info": {
   "codemirror_mode": {
    "name": "ipython",
    "version": 3
   },
   "file_extension": ".py",
   "mimetype": "text/x-python",
   "name": "python",
   "nbconvert_exporter": "python",
   "pygments_lexer": "ipython3",
   "version": "3.6.3"
  }
 },
 "nbformat": 4,
 "nbformat_minor": 2
}
