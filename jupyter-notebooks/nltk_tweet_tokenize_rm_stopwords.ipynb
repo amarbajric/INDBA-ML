{
 "cells": [
  {
   "cell_type": "code",
   "execution_count": 1,
   "metadata": {},
   "outputs": [
    {
     "name": "stdout",
     "output_type": "stream",
     "text": [
      "[nltk_data] Downloading package stopwords to /home/jovyan/nltk_data...\n",
      "[nltk_data]   Package stopwords is already up-to-date!\n",
      "[nltk_data] Downloading package subjectivity to\n",
      "[nltk_data]     /home/jovyan/nltk_data...\n",
      "[nltk_data]   Package subjectivity is already up-to-date!\n"
     ]
    },
    {
     "data": {
      "text/plain": [
       "True"
      ]
     },
     "execution_count": 1,
     "metadata": {},
     "output_type": "execute_result"
    }
   ],
   "source": [
    "import nltk\n",
    "import re\n",
    "# http://tweepy.readthedocs.io/en/v3.5.0/index.html\n",
    "import tweepy\n",
    "from tweepy import OAuthHandler\n",
    "# https://pandasguide.readthedocs.io/en/latest/\n",
    "import pandas as pd\n",
    "# https://numpy.readthedocs.io/en/latest/\n",
    "import numpy as np\n",
    "# https://api.mongodb.com/python/current/\n",
    "import pymongo\n",
    "\n",
    "from IPython.display import display\n",
    "import matplotlib.pyplot as plt\n",
    "import seaborn as sns\n",
    "%matplotlib inline\n",
    "nltk.download('stopwords')\n",
    "nltk.download('subjectivity')"
   ]
  },
  {
   "cell_type": "code",
   "execution_count": 2,
   "metadata": {},
   "outputs": [],
   "source": [
    "# Set the received credentials for your recently created TwitterAPI\n",
    "CONSUMER_KEY = 'MmiELrtF7fSp3vptCID8jKril'\n",
    "CONSUMER_SECRET = 'HqtMRk4jpt30uwDOLz30jHqZm6TPN6rj3oHFaL6xFxw2k0GkDC'\n",
    "ACCESS_TOKEN = '116725830-rkT63AILxR4fpf4kUXd8xJoOcHTsGkKUOKSMpMJQ'\n",
    "ACCESS_TOKEN_SECRET = 'eKzxfku4GdYu1wWcMr5iusTmhFT35cDWezMU2Olr5UD4i'\n",
    "\n",
    "# auth with your provided \n",
    "auth = tweepy.OAuthHandler(CONSUMER_KEY, CONSUMER_SECRET)\n",
    "auth.set_access_token(ACCESS_TOKEN, ACCESS_TOKEN_SECRET)\n",
    "\n",
    "# Create an instance for the TwitterApi\n",
    "twitter = tweepy.API(auth)"
   ]
  },
  {
   "cell_type": "code",
   "execution_count": 3,
   "metadata": {},
   "outputs": [
    {
     "name": "stdout",
     "output_type": "stream",
     "text": [
      "200 tweets extracted.\n",
      "\n"
     ]
    }
   ],
   "source": [
    "SCREEN_NAME = \"realDonaldTrump\"\n",
    "COUNT = 500\n",
    "\n",
    "#extract tweets from a user's timeline\n",
    "tweets = twitter.user_timeline(screen_name=SCREEN_NAME, count=COUNT)\n",
    "print(\"{} tweets extracted.\\n\".format(len(tweets)))"
   ]
  },
  {
   "cell_type": "code",
   "execution_count": 4,
   "metadata": {},
   "outputs": [],
   "source": [
    "# Clean tweet and remove links and other unwanted information\n",
    "def clean_tweet(tweet):\n",
    "    return ''.join(re.sub(\"(@[A-Za-z0-9]+)|([^0-9A-Za-z \\t])|(\\w+:\\/\\/\\S+)\", \" \", tweet))\n",
    "\n",
    "\n",
    "tweets = [clean_tweet(tweet.text) for tweet in tweets]"
   ]
  },
  {
   "cell_type": "code",
   "execution_count": 5,
   "metadata": {},
   "outputs": [
    {
     "data": {
      "text/html": [
       "<div>\n",
       "<table border=\"1\" class=\"dataframe\">\n",
       "  <thead>\n",
       "    <tr style=\"text-align: right;\">\n",
       "      <th></th>\n",
       "      <th>Tweets</th>\n",
       "    </tr>\n",
       "  </thead>\n",
       "  <tbody>\n",
       "    <tr>\n",
       "      <th>0</th>\n",
       "      <td>Well  now that collusion with Russia is provin...</td>\n",
       "    </tr>\n",
       "    <tr>\n",
       "      <th>1</th>\n",
       "      <td>Dow goes from 18 589 on November 9  2016  to 2...</td>\n",
       "    </tr>\n",
       "    <tr>\n",
       "      <th>2</th>\n",
       "      <td>The Fake News Media barely mentions the fact t...</td>\n",
       "    </tr>\n",
       "    <tr>\n",
       "      <th>3</th>\n",
       "      <td>I authorized Zero access to White House  actua...</td>\n",
       "    </tr>\n",
       "    <tr>\n",
       "      <th>4</th>\n",
       "      <td>MAKING AMERICA GREAT AGAIN</td>\n",
       "    </tr>\n",
       "  </tbody>\n",
       "</table>\n",
       "</div>"
      ],
      "text/plain": [
       "                                              Tweets\n",
       "0  Well  now that collusion with Russia is provin...\n",
       "1  Dow goes from 18 589 on November 9  2016  to 2...\n",
       "2  The Fake News Media barely mentions the fact t...\n",
       "3  I authorized Zero access to White House  actua...\n",
       "4                      MAKING AMERICA GREAT AGAIN   "
      ]
     },
     "metadata": {},
     "output_type": "display_data"
    }
   ],
   "source": [
    "# Create a pandas DataFrame out of the tweets\n",
    "data = pd.DataFrame(data=[t for t in tweets], columns=['Tweets'])\n",
    "\n",
    "# Diplay the first 5 elements of the DataFrame\n",
    "display(data.head(5))"
   ]
  },
  {
   "cell_type": "code",
   "execution_count": 6,
   "metadata": {},
   "outputs": [
    {
     "name": "stdout",
     "output_type": "stream",
     "text": [
      "['well', 'now', 'that', 'collusion', 'with', 'russia', 'is', 'proving', 'to', 'be', 'a', 'total', 'hoax', 'and', 'the', 'only', 'collusion', 'is', 'with', 'hillary', 'clinton', 'a']\n"
     ]
    }
   ],
   "source": [
    "tokenized_tweets = [nltk.tokenize.word_tokenize(tweet.lower()) for tweet in tweets]\n",
    "print(tokenized_tweets[0])"
   ]
  },
  {
   "cell_type": "code",
   "execution_count": 7,
   "metadata": {},
   "outputs": [
    {
     "name": "stdout",
     "output_type": "stream",
     "text": [
      "['well', 'that', 'collusion', 'russia', 'proving', 'be', 'total', 'hoax', 'the', 'collusion', 'with', 'hillary', 'clinton']\n"
     ]
    }
   ],
   "source": [
    "stopwords = set(nltk.corpus.stopwords.words('english'))\n",
    "for tweet in tokenized_tweets:\n",
    "    for word in tweet:\n",
    "        if word in stopwords:\n",
    "            tweet.remove(word)\n",
    "\n",
    "print(tokenized_tweets[0])"
   ]
  }
 ],
 "metadata": {
  "kernelspec": {
   "display_name": "Python 3",
   "language": "python",
   "name": "python3"
  },
  "language_info": {
   "codemirror_mode": {
    "name": "ipython",
    "version": 3
   },
   "file_extension": ".py",
   "mimetype": "text/x-python",
   "name": "python",
   "nbconvert_exporter": "python",
   "pygments_lexer": "ipython3",
   "version": "3.6.3"
  }
 },
 "nbformat": 4,
 "nbformat_minor": 2
}
