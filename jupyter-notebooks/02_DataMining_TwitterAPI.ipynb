{
 "cells": [
  {
   "cell_type": "markdown",
   "metadata": {},
   "source": [
    "# DataMining TwitterAPI\n",
    "\n",
    "Requirements:\n",
    "- TwitterAccount\n",
    "- TwitterApp credentials\n",
    "\n",
    "## Imports\n",
    "The following imports are requiered to mine data from Twitter"
   ]
  },
  {
   "cell_type": "code",
   "execution_count": null,
   "metadata": {},
   "outputs": [],
   "source": [
    "# http://tweepy.readthedocs.io/en/v3.5.0/index.html\n",
    "import tweepy\n",
    "# https://api.mongodb.com/python/current/\n",
    "import pymongo\n",
    "import json\n",
    "import sys"
   ]
  },
  {
   "cell_type": "markdown",
   "metadata": {},
   "source": [
    "## Access and Test the TwitterAPI\n",
    "Insert your `CONSUMER_KEY`, `CONSUMER_SECRET`, `ACCESS_TOKEN` and `ACCESS_TOKEN_SECRET` and run the code snippet to test if access is granted. If everything works well 'tweepy...' will be posted to your timeline."
   ]
  },
  {
   "cell_type": "code",
   "execution_count": null,
   "metadata": {},
   "outputs": [],
   "source": [
    "# Set the received credentials for your recently created TwitterAPI\n",
    "CONSUMER_KEY = 'MmiELrtF7fSp3vptCID8jKril'\n",
    "CONSUMER_SECRET = 'HqtMRk4jpt30uwDOLz30jHqZm6TPN6rj3oHFaL6xFxw2k0GkDC'\n",
    "ACCESS_TOKEN = '116725830-rkT63AILxR4fpf4kUXd8xJoOcHTsGkKUOKSMpMJQ'\n",
    "ACCESS_TOKEN_SECRET = 'eKzxfku4GdYu1wWcMr5iusTmhFT35cDWezMU2Olr5UD4i'\n",
    "\n",
    "# auth with your provided \n",
    "auth = tweepy.OAuthHandler(CONSUMER_KEY, CONSUMER_SECRET)\n",
    "auth.set_access_token(ACCESS_TOKEN, ACCESS_TOKEN_SECRET)\n",
    "\n",
    "# Create an instance for the TwitterApi\n",
    "twitter = tweepy.API(auth)\n",
    "status = twitter.update_status('tweepy ...')\n",
    "print(json.dumps(status._json, indent=1))"
   ]
  },
  {
   "cell_type": "markdown",
   "metadata": {},
   "source": [
    "## mongoDB\n",
    "To gain access to the mongoDB the library `pymongo` is used.\n",
    "\n",
    "In the first step the mongoDB URL is defined."
   ]
  },
  {
   "cell_type": "code",
   "execution_count": null,
   "metadata": {},
   "outputs": [],
   "source": [
    "MONGO_URL = 'mongodb://twitter-mongodb:27017/'"
   ]
  },
  {
   "cell_type": "markdown",
   "metadata": {},
   "source": [
    "Next, two functions are defined to save and load data from mongoDB."
   ]
  },
  {
   "cell_type": "code",
   "execution_count": null,
   "metadata": {},
   "outputs": [],
   "source": [
    "def save_to_mongo(data, mongo_db, mongo_db_coll):\n",
    "    # Connects to the MongoDB server running on\n",
    "    client = pymongo.MongoClient(MONGO_URL)\n",
    "    # Get a reference to a particular database\n",
    "    db = client[mongo_db]\n",
    "    # Reference a particular collection in the database\n",
    "    coll = db[mongo_db_coll]\n",
    "    # Perform a bulk insert and return the IDs\n",
    "    return coll.insert_one(data)\n",
    "\n",
    "def load_from_mongo(mongo_db, mongo_db_coll, return_cursor=False, criteria=None, projection=None):\n",
    "    # Optionally, use criteria and projection to limit the data that is\n",
    "    # returned - http://docs.mongodb.org/manual/reference/method/db.collection.find/\n",
    "    \n",
    "    # Connects to the MongoDB server running on\n",
    "    client = pymongo.MongoClient(MONGO_URL)\n",
    "    # Reference a particular collection in the database\n",
    "    db = client[mongo_db]\n",
    "    # Perform a bulk insert and return the IDs\n",
    "    coll = db[mongo_db_coll]\n",
    "    if criteria is None:\n",
    "        criteria = {}\n",
    "    if projection is None:\n",
    "        cursor = coll.find(criteria)\n",
    "    else:\n",
    "        cursor = coll.find(criteria, projection)\n",
    "    \n",
    "    # Returning a cursor is recommended for large amounts of data\n",
    "    if return_cursor:\n",
    "        return cursor\n",
    "    else:\n",
    "        return [ item for item in cursor ]"
   ]
  },
  {
   "cell_type": "markdown",
   "metadata": {},
   "source": [
    "## Stream tweets to mongoDB\n",
    "Now we want to stream tweets to a current trend to the mongoDB.\n",
    "\n",
    "Therefore we ask the TwitterAPI for current Trends within different places. Places are defined with WOEID https://www.flickr.com/places/info/1"
   ]
  },
  {
   "cell_type": "code",
   "execution_count": null,
   "metadata": {},
   "outputs": [],
   "source": [
    "# WORLD\n",
    "print('trends WORLD')\n",
    "trends = twitter.trends_place(1)[0]['trends']\n",
    "for t in trends[:5]:\n",
    "    print(json.dumps(t['name'],indent=1))\n",
    "# US\n",
    "print('\\ntrends US')\n",
    "trends = twitter.trends_place(23424977)[0]['trends']\n",
    "for t in trends[:5]:\n",
    "    print(json.dumps(t['name'],indent=1))\n",
    "# AT\n",
    "print('\\ntrends AUSTRIA')\n",
    "trends = twitter.trends_place(23424750)[0]['trends']\n",
    "for t in trends[:5]:\n",
    "    print(json.dumps(t['name'],indent=1))"
   ]
  },
  {
   "cell_type": "markdown",
   "metadata": {},
   "source": [
    "### StreamListener\n",
    "tweepy provides a StreamListener that allows to stream live tweets. All streamed tweets are stored to the mongoDB."
   ]
  },
  {
   "cell_type": "code",
   "execution_count": null,
   "metadata": {
    "scrolled": true
   },
   "outputs": [],
   "source": [
    "MONGO_DB = 'trends'\n",
    "MONGO_COLL = 'tweets'\n",
    "\n",
    "TREND = '#BestBoyBand'\n",
    "\n",
    "class CustomStreamListener(tweepy.StreamListener):\n",
    "    def __init__(self, twitter):\n",
    "        self.twitter = twitter\n",
    "        super(tweepy.StreamListener, self).__init__()\n",
    "        self.db = pymongo.MongoClient(MONGO_URL)[MONGO_DB]\n",
    "        self.number = 1\n",
    "        print('Streaming tweets to mongo ...')\n",
    "\n",
    "    def on_data(self, tweet):\n",
    "        self.number += 1\n",
    "        self.db[MONGO_COLL].insert_one(json.loads(tweet))\n",
    "        if self.number % 100 == 0 : print('{} tweets added'.format(self.number))\n",
    "\n",
    "    def on_error(self, status_code):\n",
    "        return True # Don't kill the stream\n",
    "\n",
    "    def on_timeout(self):\n",
    "        return True # Don't kill the stream\n",
    "\n",
    "sapi = tweepy.streaming.Stream(auth, CustomStreamListener(twitter))\n",
    "sapi.filter(track=[TREND])"
   ]
  },
  {
   "cell_type": "markdown",
   "metadata": {},
   "source": [
    "## Collect tweets from a specific user\n",
    "In this use-case we mine data from a specific user."
   ]
  },
  {
   "cell_type": "code",
   "execution_count": null,
   "metadata": {
    "scrolled": true
   },
   "outputs": [],
   "source": [
    "MONGO_DB = 'trump'\n",
    "MONGO_COLL = 'tweets'\n",
    "\n",
    "TWITTER_USER = '@realDonaldTrump'\n",
    "\n",
    "def get_all_tweets(screen_name):\n",
    "    #initialize a list to hold all the tweepy Tweets\n",
    "    alltweets = []    \n",
    "    #make initial request for most recent tweets (200 is the maximum allowed count)\n",
    "    new_tweets = twitter.user_timeline(screen_name = screen_name,count=200)\n",
    "    #save most recent tweets\n",
    "    alltweets.extend(new_tweets)\n",
    "    #save the id of the oldest tweet less one\n",
    "    oldest = alltweets[-1].id - 1\n",
    "    #keep grabbing tweets until there are no tweets left to grab\n",
    "    while len(new_tweets) > 0:\n",
    "        #all subsiquent requests use the max_id param to prevent duplicates\n",
    "        new_tweets = twitter.user_timeline(screen_name = screen_name,count=200,max_id=oldest)\n",
    "        #save most recent tweets\n",
    "        alltweets.extend(new_tweets)\n",
    "        #update the id of the oldest tweet less one\n",
    "        oldest = alltweets[-1].id - 1\n",
    "        print(\"...{} tweets downloaded so far\".format(len(alltweets)))\n",
    "       \n",
    "    #write tweet objects to JSON \n",
    "    print(\"Writing tweet objects to MongoDB please wait...\")\n",
    "    number = 1\n",
    "    for status in alltweets:\n",
    "        print(save_to_mongo(status._json, MONGO_DB, MONGO_COLL))\n",
    "        number += 1\n",
    "    print(\"Done - {} tweets saved!\".format(number))\n",
    "\n",
    "#pass in the username of the account you want to download\n",
    "get_all_tweets(TWITTER_USER)"
   ]
  },
  {
   "cell_type": "markdown",
   "metadata": {},
   "source": [
    "## Load tweets from mongo"
   ]
  },
  {
   "cell_type": "code",
   "execution_count": null,
   "metadata": {},
   "outputs": [],
   "source": [
    "data = load_from_mongo('trends', 'tweets')\n",
    "for d in data[:5]:\n",
    "    print(d['text'])"
   ]
  },
  {
   "cell_type": "code",
   "execution_count": null,
   "metadata": {},
   "outputs": [],
   "source": []
  }
 ],
 "metadata": {
  "kernelspec": {
   "display_name": "Python 3",
   "language": "python",
   "name": "python3"
  },
  "language_info": {
   "codemirror_mode": {
    "name": "ipython",
    "version": 3
   },
   "file_extension": ".py",
   "mimetype": "text/x-python",
   "name": "python",
   "nbconvert_exporter": "python",
   "pygments_lexer": "ipython3",
   "version": "3.6.3"
  }
 },
 "nbformat": 4,
 "nbformat_minor": 2
}
