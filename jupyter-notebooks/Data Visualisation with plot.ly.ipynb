{
 "cells": [
  {
   "cell_type": "markdown",
   "metadata": {},
   "source": [
    "# Prerequisites - Set Credentials"
   ]
  },
  {
   "cell_type": "code",
   "execution_count": null,
   "metadata": {},
   "outputs": [],
   "source": [
    "import plotly\n",
    "import numpy as np\n",
    "import plotly.plotly as py\n",
    "import plotly.tools as tls\n",
    "from plotly.graph_objs import *\n",
    "\n",
    "plotly.tools.set_credentials_file(username='mwageneder', api_key='ngdFboI44u6QCZC1VxEY')"
   ]
  },
  {
   "cell_type": "markdown",
   "metadata": {},
   "source": [
    "# Basic Line"
   ]
  },
  {
   "cell_type": "code",
   "execution_count": null,
   "metadata": {},
   "outputs": [],
   "source": [
    "trace0 = Scatter(\n",
    "    x=[1, 2, 3, 4],\n",
    "    y=[10, 15, 13, 17]\n",
    ")\n",
    "trace1 = Scatter(\n",
    "    x=[1, 2, 3, 4],\n",
    "    y=[16, 5, 11, 9]\n",
    ")\n",
    "data = Data([trace0, trace1])\n",
    "\n",
    "py.iplot(data)"
   ]
  },
  {
   "cell_type": "markdown",
   "metadata": {},
   "source": [
    "# Area Plots"
   ]
  },
  {
   "cell_type": "code",
   "execution_count": null,
   "metadata": {},
   "outputs": [],
   "source": [
    "trace0 = Scatter(\n",
    "    x=[0, 1, 2, 3],\n",
    "    y=[1, 2, 3, 4],\n",
    "    fill=\"tonexty\"\n",
    ")\n",
    "trace1 = Scatter(\n",
    "    x=[0, 1, 2, 3],\n",
    "    y=[4, 3, 2, 1],\n",
    "    fill=\"tonexty\"\n",
    ")\n",
    "data = Data([trace0, trace1])\n",
    "\n",
    "py.iplot(data)"
   ]
  },
  {
   "cell_type": "markdown",
   "metadata": {},
   "source": [
    "# Basic Scatter"
   ]
  },
  {
   "cell_type": "code",
   "execution_count": null,
   "metadata": {},
   "outputs": [],
   "source": [
    "# Create random data with numpy\n",
    "import numpy as np\n",
    "\n",
    "N = 1000\n",
    "random_x = np.random.randn(N)\n",
    "random_y = np.random.randn(N)\n",
    "\n",
    "# Create a trace\n",
    "trace = Scatter(\n",
    "    x = random_x,\n",
    "    y = random_y,\n",
    "    mode = 'markers'\n",
    ")\n",
    "\n",
    "data = [trace]\n",
    "\n",
    "# Plot and embed in ipython notebook!\n",
    "py.iplot(data, filename='basic-scatter')\n",
    "\n",
    "# or plot with: plot_url = py.plot(data, filename='basic-line')"
   ]
  },
  {
   "cell_type": "markdown",
   "metadata": {},
   "source": [
    "# Scatter with Markers & Lines"
   ]
  },
  {
   "cell_type": "code",
   "execution_count": null,
   "metadata": {},
   "outputs": [],
   "source": [
    "# Create random data with numpy\n",
    "import numpy as np\n",
    "\n",
    "N = 100\n",
    "random_x = np.linspace(0, 1, N)\n",
    "random_y0 = np.random.randn(N)+5\n",
    "random_y1 = np.random.randn(N)\n",
    "random_y2 = np.random.randn(N)-5\n",
    "\n",
    "# Create traces\n",
    "trace0 = Scatter(\n",
    "    x = random_x,\n",
    "    y = random_y0,\n",
    "    mode = 'markers',\n",
    "    name = 'markers'\n",
    ")\n",
    "trace1 = Scatter(\n",
    "    x = random_x,\n",
    "    y = random_y1,\n",
    "    mode = 'lines+markers',\n",
    "    name = 'lines+markers'\n",
    ")\n",
    "trace2 = Scatter(\n",
    "    x = random_x,\n",
    "    y = random_y2,\n",
    "    mode = 'lines',\n",
    "    name = 'lines'\n",
    ")\n",
    "\n",
    "data = [trace0, trace1, trace2]\n",
    "py.iplot(data, filename='scatter-mode')"
   ]
  },
  {
   "cell_type": "markdown",
   "metadata": {},
   "source": [
    "# Styled Scatter"
   ]
  },
  {
   "cell_type": "code",
   "execution_count": null,
   "metadata": {},
   "outputs": [],
   "source": [
    "#amount of markers\n",
    "N = 500\n",
    "\n",
    "trace0 = Scatter(\n",
    "    x = np.random.randn(N),\n",
    "    y = np.random.randn(N)+2,\n",
    "    name = 'Above',\n",
    "    mode = 'markers',\n",
    "    marker = dict(\n",
    "        size = 10,\n",
    "        color = 'rgba(152, 0, 0, .8)',\n",
    "        line = dict(\n",
    "            width = 2,\n",
    "            color = 'rgb(0, 0, 0)'\n",
    "        )\n",
    "    )\n",
    ")\n",
    "\n",
    "trace1 = Scatter(\n",
    "    x = np.random.randn(N),\n",
    "    y = np.random.randn(N)-2,\n",
    "    name = 'Below',\n",
    "    mode = 'markers',\n",
    "    marker = dict(\n",
    "        size = 10,\n",
    "        color = 'rgba(255, 182, 193, .9)',\n",
    "        line = dict(\n",
    "            width = 2,\n",
    "        )\n",
    "    )\n",
    ")\n",
    "\n",
    "data = [trace0, trace1]\n",
    "\n",
    "layout = dict(title = 'Styled Scatter',\n",
    "              yaxis = dict(zeroline = False),\n",
    "              xaxis = dict(zeroline = False)\n",
    "             )\n",
    "\n",
    "fig = dict(data=data, layout=layout)\n",
    "py.iplot(fig, filename='styled-scatter')"
   ]
  },
  {
   "cell_type": "markdown",
   "metadata": {},
   "source": [
    "# BAR Chart"
   ]
  },
  {
   "cell_type": "code",
   "execution_count": null,
   "metadata": {},
   "outputs": [],
   "source": [
    "trace1 = Bar(\n",
    "    x=['cats', 'dogs', 'monkeys'],\n",
    "    y=[20, 14, 23]\n",
    "    )\n",
    "data = Data([trace1])\n",
    "py.iplot(data)"
   ]
  },
  {
   "cell_type": "markdown",
   "metadata": {},
   "source": [
    "# Example with locally saved CSV"
   ]
  },
  {
   "cell_type": "markdown",
   "metadata": {},
   "source": [
    "## CSV Import Function"
   ]
  },
  {
   "cell_type": "code",
   "execution_count": null,
   "metadata": {},
   "outputs": [],
   "source": [
    "# (*) csv file read/write\n",
    "import csv\n",
    "\n",
    "# Define a csv reader function\n",
    "def get_csv_data(filepath, row_id):\n",
    "    ''' \n",
    "    Read row of csv file, return a numpy array where\n",
    "    each entry corresp. to a particular month from January to December\n",
    "    pos. arg (1) filepath: relative path to csv file \n",
    "    pos. arg (2) row_id: id of row requested, found in first column (a string)\n",
    "    '''\n",
    "    with open(filepath, 'r') as data_file:\n",
    "        reader = csv.reader(data_file)        # define reader object\n",
    "        for row in reader:                    # loop through rows in csv file\n",
    "            if len(row) and row_id in row[0]: # test for empty lines and row id\n",
    "                # Trim 1st and last 2 entries (not corresp. to months) \n",
    "                # and return a numpy array\n",
    "                return np.array([float(x) for x in row[1:-2]])\n",
    "\n",
    "# (-) The 'with' statement automatically closes  \n",
    "#    'filepath' at the end of its block of code"
   ]
  },
  {
   "cell_type": "markdown",
   "metadata": {},
   "source": [
    "## Advanced Plot with Data from CSV"
   ]
  },
  {
   "cell_type": "code",
   "execution_count": null,
   "metadata": {},
   "outputs": [],
   "source": [
    "# Make a list of month names\n",
    "months = ['Jan', 'Feb', 'Mar', 'Apr', 'May', 'Jun',\n",
    "          'Jul', 'Aug', 'Sep', 'Oct', 'Nov', 'Dec']\n",
    "\n",
    "# Get a 1d-array of daily average temperatures, \n",
    "#  1 entry per month using get_csv_data()\n",
    "T_avg = get_csv_data('files/testingGraphsMontreal.csv', 'Daily Average')\n",
    "\n",
    "# Similarly, get a 1d-array of daily temperature standard deviations\n",
    "T_std = get_csv_data('files/testingGraphsMontreal.csv', 'Standard Deviation')\n",
    "\n",
    "\n",
    "# Make a Bar trace object\n",
    "trace1 = Bar(\n",
    "    x=months,  # a list of string as x-coords\n",
    "    y=T_avg,   # 1d array of numbers as y-coords\n",
    "    marker=Marker(color='#E3BA22'),  # set bar color (hex color model)\n",
    "    error_y=ErrorY(\n",
    "        type='data',     # or 'percent', 'sqrt', 'constant'\n",
    "        array=T_std,     # values of error bars\n",
    "        color='#E6842A'  # set error bar color\n",
    "    )\n",
    ")\n",
    "\n",
    "# Make Data object\n",
    "data = Data([trace1])\n",
    "\n",
    "title = \"Fig 2.1: Montreal 1981-2010<br>\\\n",
    "Daily Average Temperature and Standard Deviation\"  # plot's title\n",
    "\n",
    "# Make Layout object\n",
    "layout = Layout(\n",
    "    title=title,       # set plot title\n",
    "    showlegend=False,  # remove legend\n",
    "    yaxis= YAxis(\n",
    "        title='Temperature [in deg. C]', # y-axis title\n",
    "        range=[-15.5,25.5],              # set range\n",
    "        zeroline=False,                  # remove thick line at y=0\n",
    "        gridcolor='white'                # set grid color to white\n",
    "    ),\n",
    "    paper_bgcolor='rgb(233,233,233)',  # set paper (outside plot) \n",
    "    plot_bgcolor='rgb(233,233,233)',   #   and plot color to grey\n",
    ")\n",
    "\n",
    "\n",
    "# Make Figure object\n",
    "fig = Figure(data=data, layout=layout)\n",
    "\n",
    "# (@) Send to Plotly and show in notebook\n",
    "py.iplot(fig, filename='s2_avg-temp')"
   ]
  },
  {
   "cell_type": "markdown",
   "metadata": {},
   "source": [
    "# Bubble Chart"
   ]
  },
  {
   "cell_type": "code",
   "execution_count": null,
   "metadata": {},
   "outputs": [],
   "source": [
    "trace1 = Scatter(\n",
    "    x=[1, 2, 3],\n",
    "    y=[5, 6, 7],\n",
    "    mode='markers',\n",
    "    marker=Marker(\n",
    "        color=['blue', 'red', 'yellow'],\n",
    "        size=[10, 20, 30]\n",
    "    )\n",
    ")\n",
    "data = Data([trace1])\n",
    "py.iplot(data)"
   ]
  },
  {
   "cell_type": "markdown",
   "metadata": {},
   "source": [
    "# Time Series Plots with datetime objects"
   ]
  },
  {
   "cell_type": "code",
   "execution_count": null,
   "metadata": {},
   "outputs": [],
   "source": [
    "from datetime import datetime\n",
    "import pandas_datareader.data as web\n",
    "\n",
    "df = web.DataReader(\"aapl\", 'yahoo',\n",
    "                    datetime(2015, 1, 1),\n",
    "                    datetime(2016, 7, 1))\n",
    "\n",
    "data = [Scatter(x=df.index, y=df.High)]\n",
    "\n",
    "py.iplot(data)"
   ]
  },
  {
   "cell_type": "code",
   "execution_count": null,
   "metadata": {},
   "outputs": [],
   "source": [
    "trace = Scatter(x=[[1,2], y=[2,1], fill='tonexty')\n",
    "data = [trace]\n",
    "py.iplot(data)"
   ]
  },
  {
   "cell_type": "code",
   "execution_count": null,
   "metadata": {},
   "outputs": [],
   "source": []
  },
  {
   "cell_type": "code",
   "execution_count": null,
   "metadata": {},
   "outputs": [],
   "source": []
  },
  {
   "cell_type": "code",
   "execution_count": null,
   "metadata": {},
   "outputs": [],
   "source": []
  },
  {
   "cell_type": "code",
   "execution_count": null,
   "metadata": {},
   "outputs": [],
   "source": []
  }
 ],
 "metadata": {
  "kernelspec": {
   "display_name": "Python 3",
   "language": "python",
   "name": "python3"
  },
  "language_info": {
   "codemirror_mode": {
    "name": "ipython",
    "version": 3
   },
   "file_extension": ".py",
   "mimetype": "text/x-python",
   "name": "python",
   "nbconvert_exporter": "python",
   "pygments_lexer": "ipython3",
   "version": "3.6.3"
  }
 },
 "nbformat": 4,
 "nbformat_minor": 2
}
